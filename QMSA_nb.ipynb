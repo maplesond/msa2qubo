{
 "cells": [
  {
   "cell_type": "code",
   "execution_count": null,
   "metadata": {
    "collapsed": false
   },
   "outputs": [],
   "source": [
    "from msa2qubo import *\n",
    "from qubo2msa import *\n",
    "import numpy as np"
   ]
  },
  {
   "cell_type": "code",
   "execution_count": null,
   "metadata": {
    "collapsed": true
   },
   "outputs": [],
   "source": [
    "m2q = Msa2Qubo(input=\"./seq.fa\", output=\"t2/qmsa.qubo\", P=1, verbose=False, delta=2.0, l0=1.0, l1=0.1, l2=10.0)"
   ]
  },
  {
   "cell_type": "code",
   "execution_count": null,
   "metadata": {
    "collapsed": false
   },
   "outputs": [],
   "source": [
    "m2q.run()\n",
    "print(m2q.bvc)"
   ]
  },
  {
   "cell_type": "code",
   "execution_count": null,
   "metadata": {
    "collapsed": true
   },
   "outputs": [],
   "source": [
    "import math"
   ]
  },
  {
   "cell_type": "code",
   "execution_count": null,
   "metadata": {
    "collapsed": false
   },
   "outputs": [],
   "source": [
    "X = m2q.bvc.x()\n",
    "print(\"seqs=\",X)\n",
    "print(\"# seqs=\",len(X))\n",
    "nr = 0\n",
    "ny = 0\n",
    "nz = 0\n",
    "for k in range(0,len(X)-1):\n",
    "    for q in range(k+1, len(X)):\n",
    "        for i in range(0, len(X[k])):\n",
    "            for j in range(0, len(X[q])):\n",
    "                nr+=1\n",
    "                print(\"R\",i,j,k,q,\" \", \"X\",k,i)\n",
    "                ny+=1\n",
    "                print(\"R\",i,j,k,q,\" \", \"X\",q,j)\n",
    "                nz+=1\n",
    "print(\"#R=\",nr)\n",
    "print(\"#Y=\",ny)\n",
    "print(\"#Z=\",nz)\n",
    "print(\"#Additional Vars=\",nr+ny+nz)"
   ]
  },
  {
   "cell_type": "code",
   "execution_count": null,
   "metadata": {
    "collapsed": false,
    "scrolled": true
   },
   "outputs": [],
   "source": [
    "numPosVars = m2q.bvc.get_NbPositioningVars(intmode=True)\n",
    "numGapVars = m2q.bvc.get_NbGapVars(intmode=True)\n",
    "\n",
    "print(numPosVars)\n",
    "print(numGapVars)"
   ]
  },
  {
   "cell_type": "code",
   "execution_count": null,
   "metadata": {
    "collapsed": false
   },
   "outputs": [],
   "source": [
    "e2m = np.zeros((numPosVars+numGapVars+nr+ny+nz,numPosVars+numGapVars+nr+ny+nz))\n",
    "print(e2m.shape)"
   ]
  },
  {
   "cell_type": "code",
   "execution_count": null,
   "metadata": {
    "collapsed": true
   },
   "outputs": [],
   "source": [
    "solution_vector = np.zeros((1, numPosVars+numGapVars+nr+ny+nz))"
   ]
  },
  {
   "cell_type": "code",
   "execution_count": null,
   "metadata": {
    "collapsed": false
   },
   "outputs": [],
   "source": [
    "print(m2q.bvc.W())"
   ]
  },
  {
   "cell_type": "code",
   "execution_count": null,
   "metadata": {
    "collapsed": false
   },
   "outputs": [],
   "source": [
    "# Move to the beggining of the matrix where the positions for R,Y and Z are\n",
    "rMatPos = numPosVars+numGapVars\n",
    "\n",
    "# Place the R*W variables on the R part of the matrix\n",
    "posK = 0\n",
    "posQ = 0\n",
    "posI = 0\n",
    "posJ = 0\n",
    "for k in range(0,len(X)-1):\n",
    "    posK += len(X[k])\n",
    "    for q in range(k+1, len(X)):\n",
    "        posQ += len(X[q])\n",
    "        for i in range(0, len(X[k])):\n",
    "            posI = 0\n",
    "            posI = posK+i\n",
    "            for j in range(0, len(X[q])):\n",
    "                posJ = 0\n",
    "                posJ = posQ+j\n",
    "                matPos = rMatPos + posK + posQ + posI + posJ\n",
    "                e2m[matPos][matPos] = m2q.bvc.w(i,j,k,q)\n"
   ]
  },
  {
   "cell_type": "code",
   "execution_count": null,
   "metadata": {
    "collapsed": false
   },
   "outputs": [],
   "source": [
    "# Place the X*Y, X*Z variables in the matrix multiplied by l_2 and W_ijkq"
   ]
  },
  {
   "cell_type": "code",
   "execution_count": null,
   "metadata": {
    "collapsed": false
   },
   "outputs": [],
   "source": [
    "yMatPos = (numPosVars+numGapVars)*2\n",
    "zMatPos = (numPosVars+numGapVars)*3\n",
    "\n",
    "posK = 0\n",
    "posQ = 0\n",
    "posI = 0\n",
    "posJ = 0\n",
    "for k in range(0,len(X)-1):\n",
    "    for q in range(k+1, len(X)):\n",
    "        for i in range(0, len(X[k])):\n",
    "            # This loop would need to be extended for the binary version\n",
    "            posI = 0\n",
    "            posI = posK+i\n",
    "            for j in range(0, len(X[q])):\n",
    "                # This loop would need to be extended for the binary version\n",
    "                posJ = 0\n",
    "                posJ = posQ+j\n",
    "                YmatPos = yMatPos + posK + posQ + posI + posJ\n",
    "                ZmatPos = zMatPos + posK + posQ + posI + posJ\n",
    "                e2m[posK+i][YmatPos] = -1. * m2q.bvc.l2() * m2q.bvc.w(i,j,k,q)\n",
    "                e2m[posQ+j][YmatPos] = 2. * m2q.bvc.l2() * m2q.bvc.w(i,j,k,q)\n",
    "                e2m[posQ+j][ZmatPos] = -1. * m2q.bvc.l2() * m2q.bvc.w(i,j,k,q)\n",
    "        posQ += len(X[q])\n",
    "    posK += len(X[k])\n"
   ]
  },
  {
   "cell_type": "code",
   "execution_count": null,
   "metadata": {
    "collapsed": false
   },
   "outputs": [],
   "source": [
    "# Place the bounds on Y and Z based on the McCormick envelopes\n",
    "\n",
    "#YunderMin = 0\n",
    "#YunderMax = X_ki + Rijkq*Lmax - Lmax\n",
    "\n",
    "#YoverMin = X_ki\n",
    "#YoverMax = Rijkq*Lmax\n",
    "\n",
    "# This goes on the integer problem constraints matrix/array"
   ]
  },
  {
   "cell_type": "code",
   "execution_count": null,
   "metadata": {
    "collapsed": false
   },
   "outputs": [],
   "source": [
    "sum(e2m)"
   ]
  },
  {
   "cell_type": "code",
   "execution_count": null,
   "metadata": {
    "collapsed": true
   },
   "outputs": [],
   "source": []
  },
  {
   "cell_type": "code",
   "execution_count": null,
   "metadata": {
    "collapsed": false
   },
   "outputs": [],
   "source": [
    "m = m2q.bvc.m()\n",
    "delta = 1\n",
    "bVarRPos = m2q.bvc.get_NbPositioningVars() + m2q.bvc.get_NbGapVars()\n",
    "bVarYPos = bRMatPos + nr # No need to transform R to binary as it only either (0,1)\n",
    "# Since R is either 0,1 in the following loops need to take that into account...\n",
    "bVarZPos = bYMatPos + ny*m2q.bvc.m()\n",
    "e2bm = np.zeros((bVarZPos+nz*m, bVarZPos+nz*m))\n",
    "posK = 0\n",
    "posQ = 0\n",
    "posI = 0\n",
    "posJ = 0\n",
    "for k in range(0,len(X)-1):\n",
    "    for q in range(k+1, len(X)):\n",
    "        for i in range(0, len(X[k])):\n",
    "            posI = 0\n",
    "            posI = posK+i\n",
    "            for bi in range(0,m):\n",
    "                for j in range(0, len(X[q])):\n",
    "                    posJ = 0\n",
    "                    posJ = posQ+j\n",
    "                    for bj in range(0, m):\n",
    "                        bRMatPos = bVarRPos\n",
    "                        bYMatPos = bVarYPos\n",
    "                        bZMatPos = bVarZPos\n",
    "                        idx = posI+bi + posJ+bj +posK+posQ\n",
    "                        \n",
    "                        # -Yijkq*Xki\n",
    "                        e2bm[bYMatPos+idx][posK+posI] += -1. * 2**(bi+bj)\n",
    "                        # 3d * Yijkq\n",
    "                        e2bm[bYMatPos+idx][bYMatPos+idx] += 3.*delta * 2**(bi+bj)\n",
    "                        # d * Rijqk*Xki\n",
    "                        e2bm[bRMatPos+idx][posK+posI] += 1.*delta * 2**(bi+bj)\n",
    "                        # -2d * Yijkq*Rijkq\n",
    "                        e2bm[bYMatPos+idx][bRMatPos+idx] += -2.*delta * 2**(bi+bj)\n",
    "                        # 2d * Yijkq*Xki\n",
    "                        e2bm[bYMatPos+idx][posK+posI+bi] += 2.*delta * 2**(bi+bj)\n",
    "                        # -4d * Yijkq*Xqj\n",
    "                        e2bm[bYMatPos+idx][posQ+posJ+bj] += -4.*delta * 2**(bi+bj)\n",
    "                        # Zijkq*Xqj\n",
    "                        e2bm[bZMatPos+idx][posQ+posJ+bj] += 1. * 2**(bi+bj)\n",
    "                        # -3d * Zijkq\n",
    "                        e2bm[bZMatPos+idx][bZMatPos+idx] += -3.*delta * 2**(bi+bj)\n",
    "                        # -d * Rijkq*Xqj\n",
    "                        e2bm[bRMatPos+idx][posQ+posJ+bj] += -1.*delta * 2**(bi+bj)\n",
    "                        # 2d * Zijqk*Xqj\n",
    "                        e2bm[bZMatPos+idx][posQ+posJ+bj] += 2.*delta * 2**(bi+bj)\n",
    "                        # 2d * Zijkq*Rijkq\n",
    "                        e2bm[bZMatPos+idx][bRMatPos+idx] += 2.*delta * 2**(bi+bj)\n",
    "\n",
    "        posQ += len(X[q])\n",
    "    posK += len(X[k])\n"
   ]
  },
  {
   "cell_type": "code",
   "execution_count": null,
   "metadata": {
    "collapsed": false,
    "scrolled": false
   },
   "outputs": [],
   "source": [
    "print(e2bm.nonzero())"
   ]
  },
  {
   "cell_type": "code",
   "execution_count": null,
   "metadata": {
    "collapsed": true
   },
   "outputs": [],
   "source": []
  }
 ],
 "metadata": {
  "kernelspec": {
   "display_name": "Python 3",
   "language": "python",
   "name": "python3"
  },
  "language_info": {
   "codemirror_mode": {
    "name": "ipython",
    "version": 3
   },
   "file_extension": ".py",
   "mimetype": "text/x-python",
   "name": "python",
   "nbconvert_exporter": "python",
   "pygments_lexer": "ipython3",
   "version": "3.5.2"
  }
 },
 "nbformat": 4,
 "nbformat_minor": 1
}
