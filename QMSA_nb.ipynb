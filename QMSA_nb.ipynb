{
 "cells": [
  {
   "cell_type": "code",
   "execution_count": null,
   "metadata": {
    "collapsed": false
   },
   "outputs": [],
   "source": [
    "%matplotlib inline\n",
    "import matplotlib.pyplot as plt"
   ]
  },
  {
   "cell_type": "code",
   "execution_count": null,
   "metadata": {
    "collapsed": false
   },
   "outputs": [],
   "source": [
    "import matplotlib as pl\n",
    "from msa2qubo import *\n",
    "from qubo2msa import *\n",
    "import numpy as np"
   ]
  },
  {
   "cell_type": "code",
   "execution_count": null,
   "metadata": {
    "collapsed": true
   },
   "outputs": [],
   "source": [
    "m2q = Msa2Qubo(input=\"./seq.fa\", output=\"t2/qmsa.qubo\", P=1, verbose=False, delta=2.0, l0=1.0, l1=0.1, l2=10.0)"
   ]
  },
  {
   "cell_type": "code",
   "execution_count": null,
   "metadata": {
    "collapsed": false
   },
   "outputs": [],
   "source": [
    "m2q.run()"
   ]
  },
  {
   "cell_type": "code",
   "execution_count": null,
   "metadata": {
    "collapsed": true
   },
   "outputs": [],
   "source": [
    "import math"
   ]
  },
  {
   "cell_type": "code",
   "execution_count": null,
   "metadata": {
    "collapsed": false
   },
   "outputs": [],
   "source": [
    "X = m2q.bvc.x()\n",
    "print(\"seqs=\",X)\n",
    "print(\"# seqs=\",len(X))\n",
    "nr = 0\n",
    "ny = 0\n",
    "nz = 0\n",
    "for k in range(0,len(X)-1):\n",
    "    for q in range(k+1, len(X)):\n",
    "        for i in range(0, len(X[k])):\n",
    "            for j in range(0, len(X[q])):\n",
    "                nr+=1\n",
    "                ny+=1\n",
    "                nz+=1\n",
    "print(\"#R=\",nr)\n",
    "print(\"#Y=\",ny)\n",
    "print(\"#Z=\",nz)\n",
    "print(\"#Additional Vars=\",nr+ny+nz)"
   ]
  },
  {
   "cell_type": "code",
   "execution_count": null,
   "metadata": {
    "collapsed": false
   },
   "outputs": [],
   "source": [
    "numPosVars = m2q.bvc.get_NbPositioningVars(intmode=True)\n",
    "numGapVars = m2q.bvc.get_NbGapVars(intmode=True)\n",
    "\n",
    "print(numPosVars)\n",
    "print(numGapVars)"
   ]
  },
  {
   "cell_type": "code",
   "execution_count": null,
   "metadata": {
    "collapsed": false
   },
   "outputs": [],
   "source": [
    "e2m = np.zeros((numPosVars+numGapVars+nr+ny+nz,numPosVars+numGapVars+nr+ny+nz))\n",
    "print(e2m.shape)"
   ]
  },
  {
   "cell_type": "code",
   "execution_count": null,
   "metadata": {
    "collapsed": true
   },
   "outputs": [],
   "source": [
    "solution_vector = np.zeros((1, numPosVars+numGapVars+nr+ny+nz))"
   ]
  },
  {
   "cell_type": "code",
   "execution_count": null,
   "metadata": {
    "collapsed": false
   },
   "outputs": [],
   "source": []
  },
  {
   "cell_type": "code",
   "execution_count": null,
   "metadata": {
    "collapsed": false
   },
   "outputs": [],
   "source": [
    "# Move to the beggining of the matrix where the positions for R,Y and Z are\n",
    "rMatPos = numPosVars+numGapVars\n",
    "\n",
    "# Place the R*W variables on the R part of the matrix\n",
    "pbK = 0\n",
    "pbQ = 0\n",
    "posI = 0\n",
    "posJ = 0\n",
    "for k in range(0,len(X)-1):\n",
    "    pbK += len(X[k])\n",
    "    for q in range(k+1, len(X)):\n",
    "        pbQ += len(X[q])\n",
    "        for i in range(0, len(X[k])):\n",
    "            posI = 0\n",
    "            posI = pbK+i\n",
    "            for j in range(0, len(X[q])):\n",
    "                posJ = 0\n",
    "                posJ = pbQ+j\n",
    "                matPos = rMatPos + pbK + pbQ + posI + posJ\n",
    "                e2m[matPos][matPos] = m2q.bvc.w(i,j,k,q)\n"
   ]
  },
  {
   "cell_type": "code",
   "execution_count": null,
   "metadata": {
    "collapsed": false
   },
   "outputs": [],
   "source": [
    "# Place the X*Y, X*Z variables in the matrix multiplied by l_2 and W_ijkq"
   ]
  },
  {
   "cell_type": "code",
   "execution_count": null,
   "metadata": {
    "collapsed": false
   },
   "outputs": [],
   "source": [
    "yMatPos = (numPosVars+numGapVars)*2\n",
    "zMatPos = (numPosVars+numGapVars)*3\n",
    "\n",
    "pbK = 0\n",
    "pbQ = 0\n",
    "posI = 0\n",
    "posJ = 0\n",
    "for k in range(0,len(X)-1):\n",
    "    for q in range(k+1, len(X)):\n",
    "        for i in range(0, len(X[k])):\n",
    "            # This loop would need to be extended for the binary version\n",
    "            posI = 0\n",
    "            posI = pbK+i\n",
    "            for j in range(0, len(X[q])):\n",
    "                # This loop would need to be extended for the binary version\n",
    "                posJ = 0\n",
    "                posJ = pbQ+j\n",
    "                YmatPos = yMatPos + pbK + pbQ + posI + posJ\n",
    "                ZmatPos = zMatPos + pbK + pbQ + posI + posJ\n",
    "                e2m[pbK+i][YmatPos] = -1. * m2q.bvc.l2() * m2q.bvc.w(i,j,k,q)\n",
    "                e2m[pbQ+j][YmatPos] = 2. * m2q.bvc.l2() * m2q.bvc.w(i,j,k,q)\n",
    "                e2m[pbQ+j][ZmatPos] = -1. * m2q.bvc.l2() * m2q.bvc.w(i,j,k,q)\n",
    "        pbQ += len(X[q])\n",
    "    pbK += len(X[k])\n"
   ]
  },
  {
   "cell_type": "code",
   "execution_count": null,
   "metadata": {
    "collapsed": false
   },
   "outputs": [],
   "source": [
    "# Place the bounds on Y and Z based on the McCormick envelopes\n",
    "\n",
    "#YunderMin = 0\n",
    "#YunderMax = X_ki + Rijkq*Lmax - Lmax\n",
    "\n",
    "#YoverMin = X_ki\n",
    "#YoverMax = Rijkq*Lmax\n",
    "\n",
    "# This goes on the integer problem constraints matrix/array"
   ]
  },
  {
   "cell_type": "code",
   "execution_count": null,
   "metadata": {
    "collapsed": false
   },
   "outputs": [],
   "source": []
  },
  {
   "cell_type": "code",
   "execution_count": null,
   "metadata": {
    "collapsed": false
   },
   "outputs": [],
   "source": [
    "m = m2q.bvc.m()\n",
    "nbR = nr\n",
    "nbY = ny*m\n",
    "nbZ = nz*m\n",
    "\n",
    "print(\"nbR\", nbR)\n",
    "print(\"nbY\", nbY)\n",
    "print(\"nbZ\", nbZ)"
   ]
  },
  {
   "cell_type": "code",
   "execution_count": null,
   "metadata": {
    "collapsed": false
   },
   "outputs": [],
   "source": [
    "\n",
    "delta = 1\n",
    "bVarRPos = m2q.bvc.get_NbPositioningVars() + m2q.bvc.get_NbGapVars()\n",
    "bVarYPos = bVarRPos + nr # No need to transform R to binary as it only either (0,1)\n",
    "# Since R is either 0,1 in the following loops need to take that into account...\n",
    "bVarZPos = bVarYPos + ny*m\n",
    "matDims = bVarZPos+nz*m\n",
    "e2bm = np.zeros((matDims, matDims))\n",
    "pbK = 0\n",
    "pbQ = 0\n",
    "posI = 0\n",
    "posJ = 0\n",
    "piK = 0\n",
    "piQ = 0\n",
    "for k in range(0,len(X)-1):\n",
    "    for q in range(k+1, len(X)):\n",
    "        pbQ += len(X[k])*m\n",
    "        piQ += len(X[k])\n",
    "        posI = 0\n",
    "        for i in range(0, len(X[k])):\n",
    "            for bi in range(0,m):\n",
    "                posJ = 0\n",
    "                for j in range(0, len(X[q])):\n",
    "                    for bj in range(0, m):\n",
    "                        bRMatPos = bVarRPos\n",
    "                        bYMatPos = bVarYPos\n",
    "                        bZMatPos = bVarZPos\n",
    "                        idx = posI+bi + posJ+bj + pbK+pbQ\n",
    "                        \n",
    "                        # -Yijkq*Xki\n",
    "                        e2bm[pbK+posI+bi][bYMatPos+idx] += -1. #* 2**(bi+bj)\n",
    "                        # 3d * Yijkq\n",
    "                        e2bm[bYMatPos+idx][bYMatPos+idx] += 3.*delta #* 2**(bi+bj)\n",
    "                        # d * Rijqk*Xki\n",
    "                        e2bm[pbK+posI+bi][bRMatPos+piK+piQ+i+j] += 1.*delta #* 2**(bi+bj)\n",
    "                        # -2d * Yijkq*Rijkq\n",
    "                        e2bm[bRMatPos+piK+piQ+i+j][bYMatPos+idx] += -2.*delta #* 2**(bi+bj)\n",
    "                        # 2d * Yijkq*Xki\n",
    "                        e2bm[pbK+posI+bi][bYMatPos+idx] += 2.*delta #* 2**(bi+bj)\n",
    "                        # -4d * Yijkq*Xqj\n",
    "                        e2bm[pbQ+posJ+bj][bYMatPos+idx] += -4.*delta #* 2**(bi+bj)\n",
    "                        # Zijkq*Xqj\n",
    "                        e2bm[pbQ+posJ+bj][bZMatPos+idx] += 1. #* 2**(bi+bj)\n",
    "                        # -3d * Zijkq\n",
    "                        e2bm[bZMatPos+idx][bZMatPos+idx] += -3.*delta #* 2**(bi+bj)\n",
    "                        # -d * Rijkq*Xqj\n",
    "                        e2bm[pbQ+posJ+bj][bRMatPos+piK+piQ+i+j] += -1.*delta #* 2**(bi+bj)\n",
    "                        # 2d * Zijqk*Xqj\n",
    "                        e2bm[pbQ+posJ+bj][bZMatPos+idx] += 2.*delta #* 2**(bi+bj)\n",
    "                        # 2d * Zijkq*Rijkq\n",
    "                        e2bm[bRMatPos+piK+piQ+i+j][bZMatPos+idx] += 2.*delta #* 2**(bi+bj)\n",
    "                    posJ += m\n",
    "            posI += m\n",
    "    pbK += len(X[k])*m\n",
    "    piK += len(X[k])\n"
   ]
  },
  {
   "cell_type": "code",
   "execution_count": null,
   "metadata": {
    "collapsed": false
   },
   "outputs": [],
   "source": []
  },
  {
   "cell_type": "code",
   "execution_count": null,
   "metadata": {
    "collapsed": false
   },
   "outputs": [],
   "source": [
    "print(\"nX\", 0)\n",
    "print(\"nG\", m2q.bvc.get_NbPositioningVars())\n",
    "print(\"nR\", bVarRPos)\n",
    "print(\"nY\", bVarYPos)\n",
    "print(\"nZ\", bVarZPos)\n"
   ]
  },
  {
   "cell_type": "code",
   "execution_count": null,
   "metadata": {
    "collapsed": false
   },
   "outputs": [],
   "source": [
    "\n",
    "G = np.zeros((matDims,matDims,3))\n",
    "G[e2bm!=0] = [0,0,0]\n",
    "G[e2bm==0] = [1,1,1]\n",
    "plt.figure(figsize=(10,10))\n",
    "\n",
    "#plt.annotate(s=\"G\", xy=((m2q.bvc.get_NbPositioningVars())*0.5,-1))\n",
    "#plt.annotate(s=\"G\", xy=(matDims,(m2q.bvc.get_NbPositioningVars())*0.5))\n",
    "plt.axvline(m2q.bvc.get_NbPositioningVars())\n",
    "plt.axhline(m2q.bvc.get_NbPositioningVars())\n",
    "\n",
    "plt.axvline(m2q.bvc.get_NbPositioningVars()+m2q.bvc.get_NbGapVars())\n",
    "plt.axhline(m2q.bvc.get_NbPositioningVars()+m2q.bvc.get_NbGapVars())\n",
    "\n",
    "plt.annotate(s=\"R\", xy=((bVarRPos+bVarYPos)*0.5,-1))\n",
    "plt.annotate(s=\"R\", xy=(matDims,(bVarRPos+bVarYPos)*0.5))\n",
    "plt.axvline(bVarRPos)\n",
    "plt.axhline(bVarRPos)\n",
    "\n",
    "plt.annotate(s=\"Y\", xy=((bVarYPos+bVarZPos)*0.5,-1))\n",
    "plt.annotate(s=\"Y\", xy=(matDims,(bVarYPos+bVarZPos)*0.5))\n",
    "plt.axvline(bVarYPos)\n",
    "plt.axhline(bVarYPos)\n",
    "\n",
    "plt.annotate(s=\"Z\", xy=((bVarZPos+matDims)*0.5,-1))\n",
    "plt.annotate(s=\"Z\", xy=(matDims+0.11,(bVarZPos+matDims)*0.5))\n",
    "plt.axvline(bVarZPos)\n",
    "plt.axhline(bVarZPos)\n",
    "\n",
    "plt.imshow(G, cmap='Greys', interpolation='nearest')\n",
    "plt.show()"
   ]
  },
  {
   "cell_type": "code",
   "execution_count": null,
   "metadata": {
    "collapsed": true
   },
   "outputs": [],
   "source": []
  },
  {
   "cell_type": "code",
   "execution_count": null,
   "metadata": {
    "collapsed": true
   },
   "outputs": [],
   "source": []
  }
 ],
 "metadata": {
  "kernelspec": {
   "display_name": "Python 3",
   "language": "python",
   "name": "python3"
  },
  "language_info": {
   "codemirror_mode": {
    "name": "ipython",
    "version": 3
   },
   "file_extension": ".py",
   "mimetype": "text/x-python",
   "name": "python",
   "nbconvert_exporter": "python",
   "pygments_lexer": "ipython3",
   "version": "3.5.2"
  }
 },
 "nbformat": 4,
 "nbformat_minor": 1
}
