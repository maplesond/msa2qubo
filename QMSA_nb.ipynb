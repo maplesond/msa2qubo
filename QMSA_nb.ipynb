{
 "cells": [
  {
   "cell_type": "code",
   "execution_count": null,
   "metadata": {
    "collapsed": false
   },
   "outputs": [],
   "source": [
    "%matplotlib inline\n",
    "import matplotlib.pyplot as plt"
   ]
  },
  {
   "cell_type": "code",
   "execution_count": null,
   "metadata": {
    "collapsed": false
   },
   "outputs": [],
   "source": [
    "import matplotlib as pl\n",
    "from msa2qubo import *\n",
    "from qubo2msa import *\n",
    "import numpy as np"
   ]
  },
  {
   "cell_type": "code",
   "execution_count": null,
   "metadata": {
    "collapsed": true
   },
   "outputs": [],
   "source": [
    "m2q = Msa2Qubo(input=\"./seq3.fa\", output=\"t2/qmsa.qubo\", P=1, verbose=False, delta=2.0, l0=1.0, l1=0.1, l2=10.0)"
   ]
  },
  {
   "cell_type": "code",
   "execution_count": null,
   "metadata": {
    "collapsed": false
   },
   "outputs": [],
   "source": [
    "m2q.run()"
   ]
  },
  {
   "cell_type": "code",
   "execution_count": null,
   "metadata": {
    "collapsed": true
   },
   "outputs": [],
   "source": [
    "import math\n",
    "m2q.bvc.createW()\n",
    "W = m2q.bvc.W()"
   ]
  },
  {
   "cell_type": "code",
   "execution_count": null,
   "metadata": {
    "collapsed": false
   },
   "outputs": [],
   "source": [
    "X = m2q.bvc.x()\n",
    "print(\"seqs=\",X)\n",
    "print(\"# seqs=\",len(X))\n",
    "nr = 0\n",
    "ny = 0\n",
    "nz = 0\n",
    "for k in range(0,len(X)-1):\n",
    "    for q in range(k+1, len(X)):\n",
    "        for i in range(0, len(X[k])):\n",
    "            for j in range(0, len(X[q])):\n",
    "                nr+=1\n",
    "                ny+=1\n",
    "                nz+=1\n",
    "print(\"#R=\",nr)\n",
    "print(\"#Y=\",ny)\n",
    "print(\"#Z=\",nz)\n",
    "print(\"#Additional Vars=\",nr+ny+nz)"
   ]
  },
  {
   "cell_type": "code",
   "execution_count": null,
   "metadata": {
    "collapsed": false
   },
   "outputs": [],
   "source": [
    "numPosVars = m2q.bvc.get_NbPositioningVars(intmode=True)\n",
    "numGapVars = m2q.bvc.get_NbGapVars(intmode=True)\n",
    "\n",
    "print(numPosVars)\n",
    "print(numGapVars)"
   ]
  },
  {
   "cell_type": "code",
   "execution_count": null,
   "metadata": {
    "collapsed": false
   },
   "outputs": [],
   "source": [
    "e2m = np.zeros((numPosVars+numGapVars+nr+ny+nz,numPosVars+numGapVars+nr+ny+nz))\n",
    "print(e2m.shape)"
   ]
  },
  {
   "cell_type": "code",
   "execution_count": null,
   "metadata": {
    "collapsed": true
   },
   "outputs": [],
   "source": [
    "solution_vector = np.zeros((1, numPosVars+numGapVars+nr+ny+nz))"
   ]
  },
  {
   "cell_type": "code",
   "execution_count": null,
   "metadata": {
    "collapsed": false
   },
   "outputs": [],
   "source": []
  },
  {
   "cell_type": "code",
   "execution_count": null,
   "metadata": {
    "collapsed": false
   },
   "outputs": [],
   "source": [
    "# Move to the beggining of the matrix where the positions for R,Y and Z are\n",
    "rMatPos = numPosVars+numGapVars\n",
    "\n",
    "# Place the R*W variables on the R part of the matrix\n",
    "pbK = 0\n",
    "pbQ = 0\n",
    "posI = 0\n",
    "posJ = 0\n",
    "for k in range(0,len(X)-1):\n",
    "    pbK += len(X[k])\n",
    "    for q in range(k+1, len(X)):\n",
    "        pbQ += len(X[q])\n",
    "        for i in range(0, len(X[k])):\n",
    "            posI = 0\n",
    "            posI = pbK+i\n",
    "            for j in range(0, len(X[q])):\n",
    "                posJ = 0\n",
    "                posJ = pbQ+j\n",
    "                matPos = rMatPos + pbK + pbQ + posI + posJ\n",
    "                e2m[matPos][matPos] = m2q.bvc.w(i,j,k,q)\n"
   ]
  },
  {
   "cell_type": "code",
   "execution_count": null,
   "metadata": {
    "collapsed": false
   },
   "outputs": [],
   "source": [
    "# Place the X*Y, X*Z variables in the matrix multiplied by l_2 and W_ijkq"
   ]
  },
  {
   "cell_type": "code",
   "execution_count": null,
   "metadata": {
    "collapsed": false
   },
   "outputs": [],
   "source": [
    "yMatPos = rMatPos + nr\n",
    "zMatPos = yMatPos + ny\n",
    "\n",
    "pbK = 0\n",
    "pbQ = 0\n",
    "posI = 0\n",
    "posJ = 0\n",
    "for k in range(0,len(X)-1):\n",
    "    for q in range(k+1, len(X)):\n",
    "        for i in range(0, len(X[k])):\n",
    "            # This loop would need to be extended for the binary version\n",
    "            posI = 0\n",
    "            posI = pbK+i\n",
    "            for j in range(0, len(X[q])):\n",
    "                # This loop would need to be extended for the binary version\n",
    "                posJ = 0\n",
    "                posJ = pbQ+j\n",
    "                YmatPos = yMatPos + pbK + pbQ + posI + posJ\n",
    "                ZmatPos = zMatPos + pbK + pbQ + posI + posJ\n",
    "                e2m[pbK+i][YmatPos] = -1. * m2q.bvc.l2() * m2q.bvc.w(i,j,k,q)\n",
    "                e2m[pbQ+j][YmatPos] = 2. * m2q.bvc.l2() * m2q.bvc.w(i,j,k,q)\n",
    "                e2m[pbQ+j][ZmatPos] = -1. * m2q.bvc.l2() * m2q.bvc.w(i,j,k,q)\n",
    "        pbQ += len(X[q])\n",
    "    pbK += len(X[k])\n"
   ]
  },
  {
   "cell_type": "code",
   "execution_count": null,
   "metadata": {
    "collapsed": false
   },
   "outputs": [],
   "source": [
    "# Place the bounds on Y and Z based on the McCormick envelopes\n",
    "\n",
    "#YunderMin = 0\n",
    "#YunderMax = X_ki + Rijkq*Lmax - Lmax\n",
    "\n",
    "#YoverMin = X_ki\n",
    "#YoverMax = Rijkq*Lmax\n",
    "\n",
    "# This goes on the integer problem constraints matrix/array"
   ]
  },
  {
   "cell_type": "code",
   "execution_count": null,
   "metadata": {
    "collapsed": false
   },
   "outputs": [],
   "source": []
  },
  {
   "cell_type": "code",
   "execution_count": null,
   "metadata": {
    "collapsed": false
   },
   "outputs": [],
   "source": [
    "m = m2q.bvc.m()\n",
    "nbR = nr\n",
    "nbY = ny*m\n",
    "nbZ = nz*m\n",
    "\n",
    "print(\"nbR\", nbR)\n",
    "print(\"nbY\", nbY)\n",
    "print(\"nbZ\", nbZ)"
   ]
  },
  {
   "cell_type": "code",
   "execution_count": null,
   "metadata": {
    "collapsed": false
   },
   "outputs": [],
   "source": [
    "\n",
    "delta = 1\n",
    "bVarRPos = m2q.bvc.get_NbPositioningVars() + m2q.bvc.get_NbGapVars()\n",
    "bVarYPos = bVarRPos + nr # No need to transform R to binary as it only either (0,1)\n",
    "# Since R is either 0,1 in the following loops need to take that into account...\n",
    "bVarZPos = bVarYPos + ny*m\n",
    "bRMatPos = bVarRPos\n",
    "bYMatPos = bVarYPos\n",
    "bZMatPos = bVarZPos\n",
    "matDims = bVarZPos+nz*m\n",
    "e2bm = np.zeros((matDims, matDims))\n",
    "pbK = 0\n",
    "pbQ = 0\n",
    "posI = 0\n",
    "posJ = 0\n",
    "piK = 0\n",
    "piQ = 0\n",
    "x_k = 0\n",
    "x_q = 0\n",
    "for k in range(len(X)-1):\n",
    "    pbQ = 0\n",
    "    piQ = 0\n",
    "    \n",
    "    size_iq = 0\n",
    "    size_bq = 0\n",
    "    x_q = x_k + len(X[k]) * m\n",
    "    for q in range(k+1, len(X)):\n",
    "        size_ii = 0\n",
    "        size_bi = 0\n",
    "        for i in range(len(X[k])):\n",
    "            \n",
    "            x_ki = x_k + (i * m)\n",
    "            \n",
    "            size_ij = 0\n",
    "            size_bj = 0\n",
    "            for j in range(len(X[q])):\n",
    "                wl2 = m2q.bvc.w(i=i,j=j,k=k,q=q) * m2q.bvc.l2()\n",
    "                x_qj = x_q + (j * m)\n",
    "                \n",
    "                i_idx = piK + size_iq + size_ii + size_ij\n",
    "                b_idx = pbK + size_bq + size_bi + size_bj\n",
    "                        \n",
    "                r_kqij = bRMatPos + i_idx\n",
    "                \n",
    "                e2bm[r_kqij][r_kqij] += wl2\n",
    "                \n",
    "                for bi in range(0,m):\n",
    "                    for bj in range(0, m):\n",
    "\n",
    "                        \n",
    "                        x_kia = x_ki + bi                       \n",
    "                        x_qja = x_qj + bi\n",
    "                                        \n",
    "                        y_kqija = bYMatPos+b_idx + bi\n",
    "                        y_kqijb = bYMatPos+b_idx + bj\n",
    "                        z_kqija = bZMatPos+b_idx + bi\n",
    "                        z_kqijb = bZMatPos+b_idx + bj\n",
    "                        \n",
    "                        \n",
    "                        # -Yijkq*Xki\n",
    "                        e2bm[x_kia][y_kqijb] += wl2 * -1. * 2**(bi+bj)\n",
    "                        # 3d * Yijkq\n",
    "                        if bi == bj:\n",
    "                            e2bm[y_kqija][y_kqijb] += wl2 * 3.*delta * 2**(bi+bj)\n",
    "                        elif bi < bj:\n",
    "                            e2bm[y_kqija][y_kqijb] += wl2 * 3.*delta * 2**(bi+bj)*2\n",
    "                        # d * Rijqk*Xki\n",
    "                        e2bm[x_kia][r_kqij] += wl2 * 1.*delta * 2**(bi+bj)\n",
    "                        # -2d * Yijkq*Rijkq\n",
    "                        e2bm[r_kqij][y_kqijb] += wl2 * -2.*delta * 2**(bi+bj)\n",
    "                        # 2d * Yijkq*Xki\n",
    "                        e2bm[x_kia][y_kqijb] += wl2 * 2.*delta * 2**(bi+bj)\n",
    "                        # -4d * Yijkq*Xqj\n",
    "                        e2bm[x_qja][y_kqijb] += wl2 * -4.*delta * 2**(bi+bj)\n",
    "                        # Zijkq*Xqj\n",
    "                        e2bm[x_qja][z_kqijb] += wl2 * 1. * 2**(bi+bj)\n",
    "                        # -3d * Zijkq\n",
    "                        if bi == bj:\n",
    "                            e2bm[z_kqija][z_kqijb] += wl2 * -3.*delta * 2**(bi+bj)\n",
    "                        elif bi < bj:\n",
    "                            e2bm[z_kqija][z_kqijb] += wl2 * -3.*delta * 2**(bi+bj)*2\n",
    "                        # -d * Rijkq*Xqj\n",
    "                        e2bm[x_qja][r_kqij] += wl2 * -1.*delta * 2**(bi+bj)\n",
    "                        # 2d * Zijqk*Xqj\n",
    "                        e2bm[x_qja][z_kqijb] += wl2 * 2.*delta * 2**(bi+bj)\n",
    "                        # 2d * Zijkq*Rijkq\n",
    "                        e2bm[r_kqij][z_kqijb] += wl2 * 2.*delta * 2**(bi+bj)\n",
    "                size_ij += 1\n",
    "                size_bj += m\n",
    "            size_ii += size_ij\n",
    "            size_bi += size_bj\n",
    "        size_iq += size_ii\n",
    "        size_bq += size_bi\n",
    "        x_q += len(X[q]) * m\n",
    "    pbK += size_bq\n",
    "    piK += size_iq\n",
    "    x_k += len(X[k]) * m\n"
   ]
  },
  {
   "cell_type": "code",
   "execution_count": null,
   "metadata": {
    "collapsed": false
   },
   "outputs": [],
   "source": [
    "G = np.zeros((matDims,matDims,3))\n",
    "G[e2bm!=0] = [0,0,0]\n",
    "G[e2bm==0] = [1,1,1]\n",
    "plt.figure(figsize=(10,10))\n",
    "\n",
    "#plt.annotate(s=\"G\", xy=((m2q.bvc.get_NbPositioningVars())*0.5,-1))\n",
    "#plt.annotate(s=\"G\", xy=(matDims,(m2q.bvc.get_NbPositioningVars())*0.5))\n",
    "plt.axvline(m2q.bvc.get_NbPositioningVars()-0.5)\n",
    "plt.axhline(m2q.bvc.get_NbPositioningVars()-0.5)\n",
    "\n",
    "plt.axvline(m2q.bvc.get_NbPositioningVars()+m2q.bvc.get_NbGapVars()-0.5)\n",
    "plt.axhline(m2q.bvc.get_NbPositioningVars()+m2q.bvc.get_NbGapVars()-0.5)\n",
    "\n",
    "plt.annotate(s=\"R\", xy=((bVarRPos+bVarYPos)*0.5,-1))\n",
    "plt.annotate(s=\"R\", xy=(matDims,(bVarRPos+bVarYPos)*0.5))\n",
    "plt.axvline(bVarRPos-0.5)\n",
    "plt.axhline(bVarRPos-0.5)\n",
    "\n",
    "plt.annotate(s=\"Y\", xy=((bVarYPos+bVarZPos)*0.5,-1))\n",
    "plt.annotate(s=\"Y\", xy=(matDims,(bVarYPos+bVarZPos)*0.5))\n",
    "plt.axvline(bVarYPos-0.5)\n",
    "plt.axhline(bVarYPos-0.5)\n",
    "\n",
    "plt.annotate(s=\"Z\", xy=((bVarZPos+matDims)*0.5,-1))\n",
    "plt.annotate(s=\"Z\", xy=(matDims+0.11,(bVarZPos+matDims)*0.5))\n",
    "plt.axvline(bVarZPos-0.5)\n",
    "plt.axhline(bVarZPos-0.5)\n",
    "\n",
    "plt.imshow(G, cmap='Greys', interpolation='nearest')\n",
    "plt.show()"
   ]
  },
  {
   "cell_type": "code",
   "execution_count": null,
   "metadata": {
    "collapsed": true
   },
   "outputs": [],
   "source": []
  }
 ],
 "metadata": {
  "kernelspec": {
   "display_name": "Python 3",
   "language": "python",
   "name": "python3"
  },
  "language_info": {
   "codemirror_mode": {
    "name": "ipython",
    "version": 3
   },
   "file_extension": ".py",
   "mimetype": "text/x-python",
   "name": "python",
   "nbconvert_exporter": "python",
   "pygments_lexer": "ipython3",
   "version": "3.5.2"
  }
 },
 "nbformat": 4,
 "nbformat_minor": 1
}
